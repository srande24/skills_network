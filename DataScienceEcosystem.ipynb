{
 "cells": [
  {
   "cell_type": "markdown",
   "id": "84c0f1d9-270c-40c2-9254-cc14e6b192a7",
   "metadata": {
    "editable": true,
    "slideshow": {
     "slide_type": ""
    },
    "tags": []
   },
   "source": [
    "# Data Science Tools and Ecosystem"
   ]
  },
  {
   "cell_type": "markdown",
   "id": "013ac09c-956d-4b5c-a539-7a281c8ad195",
   "metadata": {
    "editable": true,
    "jp-MarkdownHeadingCollapsed": true,
    "slideshow": {
     "slide_type": ""
    },
    "tags": []
   },
   "source": [
    "# In this notebook, Data Science Tools and Ecosystems are summarized.\n",
    "# **Objectives**\n",
    "## •List popular languages for Data Science\n",
    "## •List several tools for Data Science\n",
    "## •List several libraries for Data Science\n",
    "\n",
    "\n"
   ]
  },
  {
   "cell_type": "markdown",
   "id": "50c24fd6-f993-4df5-bf9a-4860d5cb2e76",
   "metadata": {},
   "source": [
    "# Some of the popular languages that Data Scientists use are:\n",
    "\n",
    "# 1. Python \n",
    "# 2. Julia\n",
    "# 3. SQL\n"
   ]
  },
  {
   "cell_type": "markdown",
   "id": "f2452221-24d1-4c00-b7de-8773109196a3",
   "metadata": {},
   "source": [
    "# Some of the commonly used libraries used by Data Scientists include\n",
    "# 1. Matplotlib\n",
    "# 2. Pandas\n",
    "# 3. NumPy"
   ]
  },
  {
   "cell_type": "markdown",
   "id": "1fa1a58b-3492-4889-87aa-a23a5cf74b2c",
   "metadata": {},
   "source": [
    "|Data Science Tools|\n",
    "|------------------|\n",
    "|Apache Hadoop|\n",
    "|Tableau|\n",
    "|Microsoft Excel|\n"
   ]
  },
  {
   "cell_type": "markdown",
   "id": "1c5865a3-2ece-480f-ae09-d2703725f263",
   "metadata": {
    "editable": true,
    "slideshow": {
     "slide_type": ""
    },
    "tags": []
   },
   "source": [
    "### Below are a few examples of evaluating arithmetic expressions in Python."
   ]
  },
  {
   "cell_type": "markdown",
   "id": "3f8fc8ef-a296-4664-8cfa-d23e75f2b03c",
   "metadata": {
    "editable": true,
    "slideshow": {
     "slide_type": ""
    },
    "tags": []
   },
   "source": [
    "### This is a simple arithmetic expression to muliply then add integers.\n",
    "### (3*4)+5"
   ]
  },
  {
   "cell_type": "code",
   "execution_count": 24,
   "id": "7fead3a8-1617-4dd2-938f-1f65f84a2c9d",
   "metadata": {},
   "outputs": [
    {
     "data": {
      "text/plain": [
       "17"
      ]
     },
     "execution_count": 24,
     "metadata": {},
     "output_type": "execute_result"
    }
   ],
   "source": [
    "(3*4)+5"
   ]
  },
  {
   "cell_type": "markdown",
   "id": "bbc9fec6-e4e1-4107-97c8-dac14405f751",
   "metadata": {},
   "source": [
    "### This will convert 200 minutes to hours by dividing by 60.\n",
    "### 200/60=x"
   ]
  },
  {
   "cell_type": "code",
   "execution_count": 26,
   "id": "340dde22-7c36-42ef-81e9-de0663b56150",
   "metadata": {},
   "outputs": [
    {
     "data": {
      "text/plain": [
       "3.3333333333333335"
      ]
     },
     "execution_count": 26,
     "metadata": {},
     "output_type": "execute_result"
    }
   ],
   "source": [
    "200/60"
   ]
  },
  {
   "cell_type": "markdown",
   "id": "dd95e799-5804-4420-a3d8-e7be3b37dd6a",
   "metadata": {},
   "source": [
    "## Author\n",
    "Stephen Andersen"
   ]
  },
  {
   "cell_type": "code",
   "execution_count": null,
   "id": "c85a2849-7a8c-48e2-aabb-ab8f99aeac0a",
   "metadata": {},
   "outputs": [],
   "source": []
  }
 ],
 "metadata": {
  "kernelspec": {
   "display_name": "anaconda-panel-2023.05-py310",
   "language": "python",
   "name": "conda-env-anaconda-panel-2023.05-py310-py"
  },
  "language_info": {
   "codemirror_mode": {
    "name": "ipython",
    "version": 3
   },
   "file_extension": ".py",
   "mimetype": "text/x-python",
   "name": "python",
   "nbconvert_exporter": "python",
   "pygments_lexer": "ipython3",
   "version": "3.11.5"
  }
 },
 "nbformat": 4,
 "nbformat_minor": 5
}
